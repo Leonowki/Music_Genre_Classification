{
 "cells": [
  {
   "cell_type": "code",
   "execution_count": 7,
   "metadata": {},
   "outputs": [],
   "source": [
    "###importing necessary libraries \n",
    "import os \n",
    "import librosa\n",
    "import numpy as np\n",
    "import tensorflow as tf\n",
    "from tensorflow.image import resize\n"
   ]
  },
  {
   "cell_type": "code",
   "execution_count": 8,
   "metadata": {},
   "outputs": [],
   "source": [
    "#Loading Model\n",
    "model = tf.keras.models.load_model(\"./Training_model.h5\")"
   ]
  },
  {
   "cell_type": "code",
   "execution_count": 9,
   "metadata": {},
   "outputs": [],
   "source": [
    "classes = [\"blues\",\"classical\",\"country\",\"disco\",\"hiphop\",\"jazz\",\"metal\",\"pop\",\"reggae\",\"rock\"]\n"
   ]
  },
  {
   "cell_type": "code",
   "execution_count": 10,
   "metadata": {},
   "outputs": [],
   "source": [
    "###SINGLE AUDIO PREPROCESSING\n",
    "###https://www.youtube.com/watch?v=knla9q-9Cn0&list=PLvz5lCwTgdXCd200WNDupTMo15DP9iryv&index=14\n",
    "#LOAD and preprocess audio file\n",
    "def load_and_preprocess_file(file_path,target_shape=(150,150)):\n",
    "    data= []\n",
    "    audio_data,sample_rate = librosa.load(file_path,sr=None)\n",
    "    chunk_duration = 4\n",
    "    overlap_duration = 2\n",
    "    #convert duration to sample\n",
    "    chunk_samples = chunk_duration * sample_rate\n",
    "    overlap_samples = overlap_duration * sample_rate\n",
    "    #calculate the number of chunks\n",
    "    num_chunks = int(np.ceil((len(audio_data) - chunk_samples) / (chunk_samples - overlap_samples))) + 1\n",
    "    #iterate each chunk\n",
    "    for i in range(num_chunks):\n",
    "        start = i * (chunk_samples - overlap_samples)\n",
    "        end = start + chunk_samples\n",
    "        chunk = audio_data[start:end]\n",
    "\n",
    "        if len(chunk) < chunk_samples:\n",
    "            chunk = np.pad(chunk, (0, chunk_samples - len(chunk)))\n",
    "\n",
    "        mel_spectrogram = librosa.feature.melspectrogram(y=chunk, sr=sample_rate)\n",
    "        mel_spectrogram = librosa.power_to_db(mel_spectrogram, ref=np.max)\n",
    "\n",
    "        with tf.device('/CPU:0'):  # Resize on CPU\n",
    "            mel_spectrogram = tf.image.resize(\n",
    "                np.expand_dims(mel_spectrogram, axis=-1), target_shape)\n",
    "        data.append(mel_spectrogram)\n",
    "    return np.array(data)"
   ]
  },
  {
   "cell_type": "code",
   "execution_count": 11,
   "metadata": {},
   "outputs": [],
   "source": [
    "file_path = \"./Test_music/Bensound_ Happy Rock - Royalty Free Music.mp3\"\n",
    "X_test = load_and_preprocess_file(file_path)"
   ]
  },
  {
   "cell_type": "code",
   "execution_count": 12,
   "metadata": {},
   "outputs": [
    {
     "data": {
      "text/plain": [
       "(52, 150, 150, 1)"
      ]
     },
     "execution_count": 12,
     "metadata": {},
     "output_type": "execute_result"
    }
   ],
   "source": [
    "X_test.shape"
   ]
  },
  {
   "cell_type": "code",
   "execution_count": 13,
   "metadata": {},
   "outputs": [],
   "source": [
    "\n",
    "##MODEL PREDICTION\n",
    "def model_prediction(X_test):\n",
    "    y_pred = model.predict(X_test)\n",
    "    predicted_categories = np.argmax(y_pred,axis=1)\n",
    "    unique_elements,counts = np.unique(predicted_categories,return_counts=True)\n",
    "    max_count = np.max(counts)\n",
    "    max_elements = unique_elements[counts==max_count]\n",
    "    return max_elements[0]"
   ]
  },
  {
   "cell_type": "code",
   "execution_count": 14,
   "metadata": {},
   "outputs": [
    {
     "name": "stdout",
     "output_type": "stream",
     "text": [
      "2/2 [==============================] - 10s 1s/step\n"
     ]
    },
    {
     "data": {
      "text/plain": [
       "9"
      ]
     },
     "execution_count": 14,
     "metadata": {},
     "output_type": "execute_result"
    }
   ],
   "source": [
    "c_index= model_prediction(X_test)\n",
    "c_index"
   ]
  },
  {
   "cell_type": "code",
   "execution_count": 15,
   "metadata": {},
   "outputs": [
    {
     "name": "stdout",
     "output_type": "stream",
     "text": [
      "model_prediction:Music Prediction ---> rock\n"
     ]
    }
   ],
   "source": [
    "print(\"model_prediction:Music Prediction --->\",classes[c_index])"
   ]
  }
 ],
 "metadata": {
  "kernelspec": {
   "display_name": "TF_env",
   "language": "python",
   "name": "python3"
  },
  "language_info": {
   "codemirror_mode": {
    "name": "ipython",
    "version": 3
   },
   "file_extension": ".py",
   "mimetype": "text/x-python",
   "name": "python",
   "nbconvert_exporter": "python",
   "pygments_lexer": "ipython3",
   "version": "3.10.16"
  }
 },
 "nbformat": 4,
 "nbformat_minor": 2
}
